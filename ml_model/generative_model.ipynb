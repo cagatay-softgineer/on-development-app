{
 "cells": [
  {
   "cell_type": "code",
   "execution_count": 2,
   "id": "923db2a1",
   "metadata": {},
   "outputs": [],
   "source": [
    "from playlist import optimized_pomodoro_playlist\n",
    "import re\n",
    "\n",
    "token_map = {'W': 0, 'S': 1, 'L': 2, 'PAD': 3}\n",
    "max_seq_len = 15  # Choose longest plausible sequence\n",
    "\n",
    "def make_example(duration_mins):\n",
    "    result = optimized_pomodoro_playlist(f\"{int(duration_mins)}:00\", code_format=False)\n",
    "    sequence = result['sequence']\n",
    "    # Remove non Pomodoro-token chars ('+', '×', or spaces)\n",
    "    sequence = re.sub(r'[^WSL]', '', sequence)\n",
    "    seq = [token_map[ch] for ch in sequence] + [token_map['PAD']] * (max_seq_len - len(sequence))\n",
    "    return float(duration_mins) / 360.0, seq  # normalize input\n",
    "\n",
    "# Generate lots of training data\n",
    "X = []\n",
    "Y = []\n",
    "for mins in range(30, 361, 2):\n",
    "    x, y = make_example(mins)\n",
    "    X.append([x])\n",
    "    Y.append(y)"
   ]
  },
  {
   "cell_type": "code",
   "execution_count": 3,
   "id": "46428cd5",
   "metadata": {},
   "outputs": [],
   "source": [
    "import torch\n",
    "import torch.nn as nn\n",
    "\n",
    "class PomodoroSeq2Seq(nn.Module):\n",
    "    def __init__(self, input_dim=1, hidden_dim=64, vocab_size=4, max_len=15):\n",
    "        super().__init__()\n",
    "        self.encoder = nn.Linear(input_dim, hidden_dim)\n",
    "        self.decoder = nn.GRU(hidden_dim, hidden_dim, batch_first=True)\n",
    "        self.head = nn.Linear(hidden_dim, vocab_size)\n",
    "        self.max_len = max_len\n",
    "\n",
    "    def forward(self, x):\n",
    "        # x shape: (batch, input_dim)\n",
    "        enc = torch.relu(self.encoder(x))  # (batch, hidden_dim)\n",
    "        # Repeat encoding for each time step\n",
    "        dec_input = enc.unsqueeze(1).repeat(1, self.max_len, 1)  # (batch, max_len, hidden_dim)\n",
    "        output, _ = self.decoder(dec_input)\n",
    "        logits = self.head(output)  # (batch, max_len, vocab_size)\n",
    "        return logits"
   ]
  },
  {
   "cell_type": "code",
   "execution_count": 4,
   "id": "330ac24a",
   "metadata": {},
   "outputs": [
    {
     "name": "stdout",
     "output_type": "stream",
     "text": [
      "Epoch 100: Loss = 0.6413\n",
      "Epoch 200: Loss = 0.0314\n",
      "Epoch 300: Loss = 0.0199\n",
      "Epoch 400: Loss = 0.0172\n",
      "Epoch 500: Loss = 0.0121\n",
      "Epoch 600: Loss = 0.0085\n",
      "Epoch 700: Loss = 0.0078\n",
      "Epoch 800: Loss = 0.0057\n",
      "Epoch 900: Loss = 0.0044\n",
      "Epoch 1000: Loss = 0.0045\n",
      "Epoch 1100: Loss = 0.0055\n",
      "Epoch 1200: Loss = 0.0032\n",
      "Epoch 1300: Loss = 0.0023\n",
      "Epoch 1400: Loss = 0.0028\n",
      "Epoch 1500: Loss = 0.0022\n",
      "Epoch 1600: Loss = 0.0019\n",
      "Epoch 1700: Loss = 0.0019\n",
      "Epoch 1800: Loss = 0.0019\n",
      "Epoch 1900: Loss = 0.0021\n",
      "Epoch 2000: Loss = 0.0033\n",
      "Epoch 2100: Loss = 0.0014\n",
      "Epoch 2200: Loss = 0.0011\n",
      "Epoch 2300: Loss = 0.0012\n",
      "Epoch 2400: Loss = 0.0010\n",
      "Epoch 2500: Loss = 0.0009\n",
      "Epoch 2600: Loss = 0.0009\n",
      "Epoch 2700: Loss = 0.0010\n",
      "Epoch 2800: Loss = 0.0007\n",
      "Epoch 2900: Loss = 0.0032\n",
      "Epoch 3000: Loss = 0.0011\n",
      "Epoch 3100: Loss = 0.0009\n",
      "Epoch 3200: Loss = 0.0007\n",
      "Epoch 3300: Loss = 0.0130\n",
      "Epoch 3400: Loss = 0.0025\n",
      "Epoch 3500: Loss = 0.0017\n",
      "Epoch 3600: Loss = 0.0011\n",
      "Epoch 3700: Loss = 0.0009\n",
      "Epoch 3800: Loss = 0.0008\n",
      "Epoch 3900: Loss = 0.0007\n",
      "Epoch 4000: Loss = 0.0007\n"
     ]
    }
   ],
   "source": [
    "import torch.optim as optim\n",
    "\n",
    "X_tensor = torch.tensor(X, dtype=torch.float32)\n",
    "Y_tensor = torch.tensor(Y, dtype=torch.long)\n",
    "\n",
    "model = PomodoroSeq2Seq()\n",
    "optimizer = optim.Adam(model.parameters(), lr=1e-3)\n",
    "criterion = nn.CrossEntropyLoss(ignore_index=token_map['PAD'])\n",
    "\n",
    "for epoch in range(4000):\n",
    "    model.train()\n",
    "    optimizer.zero_grad()\n",
    "    logits = model(X_tensor)\n",
    "    loss = criterion(logits.view(-1, 4), Y_tensor.view(-1))\n",
    "    loss.backward()\n",
    "    optimizer.step()\n",
    "    if (epoch+1) % 100 == 0:\n",
    "        print(f\"Epoch {epoch+1}: Loss = {loss.item():.4f}\")"
   ]
  },
  {
   "cell_type": "code",
   "execution_count": 5,
   "id": "8c10dba0",
   "metadata": {},
   "outputs": [
    {
     "name": "stdout",
     "output_type": "stream",
     "text": [
      "WSWSWLWSWSWSWLW\n"
     ]
    }
   ],
   "source": [
    "def decode_sequence(seq):\n",
    "    inv_token_map = {v: k for k, v in token_map.items()}\n",
    "    return ''.join(inv_token_map[i] for i in seq if i != token_map['PAD'])\n",
    "\n",
    "def predict_sequence(model, duration):\n",
    "    model.eval()\n",
    "    with torch.no_grad():\n",
    "        x = torch.tensor([[duration / 360.0]], dtype=torch.float32)\n",
    "        logits = model(x)\n",
    "        pred = torch.argmax(logits, dim=2).cpu().numpy()[0]\n",
    "        return decode_sequence(pred)\n",
    "\n",
    "print(predict_sequence(model, 115))\n"
   ]
  }
 ],
 "metadata": {
  "kernelspec": {
   "display_name": "Python 3",
   "language": "python",
   "name": "python3"
  },
  "language_info": {
   "codemirror_mode": {
    "name": "ipython",
    "version": 3
   },
   "file_extension": ".py",
   "mimetype": "text/x-python",
   "name": "python",
   "nbconvert_exporter": "python",
   "pygments_lexer": "ipython3",
   "version": "3.11.0"
  }
 },
 "nbformat": 4,
 "nbformat_minor": 5
}
